{
 "cells": [
  {
   "cell_type": "markdown",
   "metadata": {},
   "source": [
    "## Observations and Insights"
   ]
  },
  {
   "cell_type": "markdown",
   "metadata": {},
   "source": []
  },
  {
   "cell_type": "markdown",
   "metadata": {},
   "source": [
    "## Dependencies and starter code"
   ]
  },
  {
   "cell_type": "code",
   "execution_count": 1,
   "metadata": {},
   "outputs": [
    {
     "data": {
      "text/html": [
       "<div>\n",
       "<style scoped>\n",
       "    .dataframe tbody tr th:only-of-type {\n",
       "        vertical-align: middle;\n",
       "    }\n",
       "\n",
       "    .dataframe tbody tr th {\n",
       "        vertical-align: top;\n",
       "    }\n",
       "\n",
       "    .dataframe thead th {\n",
       "        text-align: right;\n",
       "    }\n",
       "</style>\n",
       "<table border=\"1\" class=\"dataframe\">\n",
       "  <thead>\n",
       "    <tr style=\"text-align: right;\">\n",
       "      <th></th>\n",
       "      <th>Mouse ID</th>\n",
       "      <th>Drug Regimen</th>\n",
       "      <th>Sex</th>\n",
       "      <th>Age_months</th>\n",
       "      <th>Weight (g)</th>\n",
       "      <th>Timepoint</th>\n",
       "      <th>Tumor Volume (mm3)</th>\n",
       "      <th>Metastatic Sites</th>\n",
       "    </tr>\n",
       "  </thead>\n",
       "  <tbody>\n",
       "    <tr>\n",
       "      <th>0</th>\n",
       "      <td>k403</td>\n",
       "      <td>Ramicane</td>\n",
       "      <td>Male</td>\n",
       "      <td>21</td>\n",
       "      <td>16</td>\n",
       "      <td>0</td>\n",
       "      <td>45.000000</td>\n",
       "      <td>0</td>\n",
       "    </tr>\n",
       "    <tr>\n",
       "      <th>1</th>\n",
       "      <td>k403</td>\n",
       "      <td>Ramicane</td>\n",
       "      <td>Male</td>\n",
       "      <td>21</td>\n",
       "      <td>16</td>\n",
       "      <td>5</td>\n",
       "      <td>38.825898</td>\n",
       "      <td>0</td>\n",
       "    </tr>\n",
       "    <tr>\n",
       "      <th>2</th>\n",
       "      <td>k403</td>\n",
       "      <td>Ramicane</td>\n",
       "      <td>Male</td>\n",
       "      <td>21</td>\n",
       "      <td>16</td>\n",
       "      <td>10</td>\n",
       "      <td>35.014271</td>\n",
       "      <td>1</td>\n",
       "    </tr>\n",
       "    <tr>\n",
       "      <th>3</th>\n",
       "      <td>k403</td>\n",
       "      <td>Ramicane</td>\n",
       "      <td>Male</td>\n",
       "      <td>21</td>\n",
       "      <td>16</td>\n",
       "      <td>15</td>\n",
       "      <td>34.223992</td>\n",
       "      <td>1</td>\n",
       "    </tr>\n",
       "    <tr>\n",
       "      <th>4</th>\n",
       "      <td>k403</td>\n",
       "      <td>Ramicane</td>\n",
       "      <td>Male</td>\n",
       "      <td>21</td>\n",
       "      <td>16</td>\n",
       "      <td>20</td>\n",
       "      <td>32.997729</td>\n",
       "      <td>1</td>\n",
       "    </tr>\n",
       "  </tbody>\n",
       "</table>\n",
       "</div>"
      ],
      "text/plain": [
       "  Mouse ID Drug Regimen   Sex  Age_months  Weight (g)  Timepoint  \\\n",
       "0     k403     Ramicane  Male          21          16          0   \n",
       "1     k403     Ramicane  Male          21          16          5   \n",
       "2     k403     Ramicane  Male          21          16         10   \n",
       "3     k403     Ramicane  Male          21          16         15   \n",
       "4     k403     Ramicane  Male          21          16         20   \n",
       "\n",
       "   Tumor Volume (mm3)  Metastatic Sites  \n",
       "0           45.000000                 0  \n",
       "1           38.825898                 0  \n",
       "2           35.014271                 1  \n",
       "3           34.223992                 1  \n",
       "4           32.997729                 1  "
      ]
     },
     "execution_count": 1,
     "metadata": {},
     "output_type": "execute_result"
    }
   ],
   "source": [
    "# Dependencies and Setup\n",
    "import matplotlib.pyplot as plt\n",
    "import pandas as pd\n",
    "import scipy.stats as st\n",
    "\n",
    "# Study data files\n",
    "mouse_metadata = \"data/Mouse_metadata.csv\"\n",
    "study_results = \"data/Study_results.csv\"\n",
    "\n",
    "# Read the mouse data and the study results\n",
    "mouse_metadata = pd.read_csv(mouse_metadata)\n",
    "study_results = pd.read_csv(study_results)\n",
    "study_results.head()\n",
    "mouse_metadata.head()\n",
    "# Combine the data into a single dataset\n",
    "merged_df = pd.merge(left=mouse_metadata, right=study_results)\n",
    "merged_df.head()"
   ]
  },
  {
   "cell_type": "markdown",
   "metadata": {},
   "source": [
    "## Summary statistics"
   ]
  },
  {
   "cell_type": "code",
   "execution_count": 2,
   "metadata": {},
   "outputs": [
    {
     "data": {
      "text/html": [
       "<div>\n",
       "<style scoped>\n",
       "    .dataframe tbody tr th:only-of-type {\n",
       "        vertical-align: middle;\n",
       "    }\n",
       "\n",
       "    .dataframe tbody tr th {\n",
       "        vertical-align: top;\n",
       "    }\n",
       "\n",
       "    .dataframe thead th {\n",
       "        text-align: right;\n",
       "    }\n",
       "</style>\n",
       "<table border=\"1\" class=\"dataframe\">\n",
       "  <thead>\n",
       "    <tr style=\"text-align: right;\">\n",
       "      <th></th>\n",
       "      <th>Tumor Volume (mm3)_mean</th>\n",
       "      <th>Tumor Volume (mm3)_median</th>\n",
       "      <th>Tumor Volume (mm3)_variance</th>\n",
       "      <th>Tumor Volume (mm3)_std</th>\n",
       "      <th>Tumor Volume (mm3)_sem</th>\n",
       "    </tr>\n",
       "    <tr>\n",
       "      <th>Drug Regimen</th>\n",
       "      <th></th>\n",
       "      <th></th>\n",
       "      <th></th>\n",
       "      <th></th>\n",
       "      <th></th>\n",
       "    </tr>\n",
       "  </thead>\n",
       "  <tbody>\n",
       "    <tr>\n",
       "      <th>Capomulin</th>\n",
       "      <td>40.675741</td>\n",
       "      <td>41.557809</td>\n",
       "      <td>24.947764</td>\n",
       "      <td>4.994774</td>\n",
       "      <td>0.329346</td>\n",
       "    </tr>\n",
       "    <tr>\n",
       "      <th>Ceftamin</th>\n",
       "      <td>52.591172</td>\n",
       "      <td>51.776157</td>\n",
       "      <td>39.290177</td>\n",
       "      <td>6.268188</td>\n",
       "      <td>0.469821</td>\n",
       "    </tr>\n",
       "    <tr>\n",
       "      <th>Infubinol</th>\n",
       "      <td>52.884795</td>\n",
       "      <td>51.820584</td>\n",
       "      <td>43.128684</td>\n",
       "      <td>6.567243</td>\n",
       "      <td>0.492236</td>\n",
       "    </tr>\n",
       "    <tr>\n",
       "      <th>Ketapril</th>\n",
       "      <td>55.235638</td>\n",
       "      <td>53.698743</td>\n",
       "      <td>68.553577</td>\n",
       "      <td>8.279709</td>\n",
       "      <td>0.603860</td>\n",
       "    </tr>\n",
       "    <tr>\n",
       "      <th>Naftisol</th>\n",
       "      <td>54.331565</td>\n",
       "      <td>52.509285</td>\n",
       "      <td>66.173479</td>\n",
       "      <td>8.134708</td>\n",
       "      <td>0.596466</td>\n",
       "    </tr>\n",
       "    <tr>\n",
       "      <th>Placebo</th>\n",
       "      <td>54.033581</td>\n",
       "      <td>52.288934</td>\n",
       "      <td>61.168083</td>\n",
       "      <td>7.821003</td>\n",
       "      <td>0.581331</td>\n",
       "    </tr>\n",
       "    <tr>\n",
       "      <th>Propriva</th>\n",
       "      <td>52.322552</td>\n",
       "      <td>50.854632</td>\n",
       "      <td>42.351070</td>\n",
       "      <td>6.507770</td>\n",
       "      <td>0.512884</td>\n",
       "    </tr>\n",
       "    <tr>\n",
       "      <th>Ramicane</th>\n",
       "      <td>40.216745</td>\n",
       "      <td>40.673236</td>\n",
       "      <td>23.486704</td>\n",
       "      <td>4.846308</td>\n",
       "      <td>0.320955</td>\n",
       "    </tr>\n",
       "    <tr>\n",
       "      <th>Stelasyn</th>\n",
       "      <td>54.233149</td>\n",
       "      <td>52.431737</td>\n",
       "      <td>59.450562</td>\n",
       "      <td>7.710419</td>\n",
       "      <td>0.573111</td>\n",
       "    </tr>\n",
       "    <tr>\n",
       "      <th>Zoniferol</th>\n",
       "      <td>53.236507</td>\n",
       "      <td>51.818479</td>\n",
       "      <td>48.533355</td>\n",
       "      <td>6.966589</td>\n",
       "      <td>0.516398</td>\n",
       "    </tr>\n",
       "  </tbody>\n",
       "</table>\n",
       "</div>"
      ],
      "text/plain": [
       "              Tumor Volume (mm3)_mean  Tumor Volume (mm3)_median  \\\n",
       "Drug Regimen                                                       \n",
       "Capomulin                   40.675741                  41.557809   \n",
       "Ceftamin                    52.591172                  51.776157   \n",
       "Infubinol                   52.884795                  51.820584   \n",
       "Ketapril                    55.235638                  53.698743   \n",
       "Naftisol                    54.331565                  52.509285   \n",
       "Placebo                     54.033581                  52.288934   \n",
       "Propriva                    52.322552                  50.854632   \n",
       "Ramicane                    40.216745                  40.673236   \n",
       "Stelasyn                    54.233149                  52.431737   \n",
       "Zoniferol                   53.236507                  51.818479   \n",
       "\n",
       "              Tumor Volume (mm3)_variance  Tumor Volume (mm3)_std  \\\n",
       "Drug Regimen                                                        \n",
       "Capomulin                       24.947764                4.994774   \n",
       "Ceftamin                        39.290177                6.268188   \n",
       "Infubinol                       43.128684                6.567243   \n",
       "Ketapril                        68.553577                8.279709   \n",
       "Naftisol                        66.173479                8.134708   \n",
       "Placebo                         61.168083                7.821003   \n",
       "Propriva                        42.351070                6.507770   \n",
       "Ramicane                        23.486704                4.846308   \n",
       "Stelasyn                        59.450562                7.710419   \n",
       "Zoniferol                       48.533355                6.966589   \n",
       "\n",
       "              Tumor Volume (mm3)_sem  \n",
       "Drug Regimen                          \n",
       "Capomulin                   0.329346  \n",
       "Ceftamin                    0.469821  \n",
       "Infubinol                   0.492236  \n",
       "Ketapril                    0.603860  \n",
       "Naftisol                    0.596466  \n",
       "Placebo                     0.581331  \n",
       "Propriva                    0.512884  \n",
       "Ramicane                    0.320955  \n",
       "Stelasyn                    0.573111  \n",
       "Zoniferol                   0.516398  "
      ]
     },
     "execution_count": 2,
     "metadata": {},
     "output_type": "execute_result"
    }
   ],
   "source": [
    "# Generate a summary statistics table of mean, median, variance, standard deviation, and SEM of the tumor volume for each regimen\n",
    "from functools import reduce\n",
    "\n",
    "merged_df = merged_df[['Drug Regimen', 'Tumor Volume (mm3)']]\n",
    "mean = pd.DataFrame(merged_df.groupby('Drug Regimen').mean())\n",
    "mean = mean.add_suffix('_mean')\n",
    "\n",
    "median = pd.DataFrame(merged_df.groupby('Drug Regimen').median())\n",
    "median = median.add_suffix('_median')\n",
    "variance = pd.DataFrame(merged_df.groupby('Drug Regimen').var())\n",
    "variance = variance.add_suffix('_variance')\n",
    "\n",
    "standard_dev = pd.DataFrame(merged_df.groupby('Drug Regimen').std())\n",
    "standard_dev = standard_dev.add_suffix('_std')\n",
    "\n",
    "Standard_error = pd.DataFrame(merged_df.groupby('Drug Regimen').sem())\n",
    "\n",
    "Standard_error = Standard_error.add_suffix('_sem')\n",
    "data_frames = [mean, median, variance, standard_dev, Standard_error]\n",
    "df_merged = reduce(lambda  left,right: pd.merge(left,right,on=['Drug Regimen'],\n",
    "                                            how='outer'), data_frames)\n",
    "df_merged\n"
   ]
  },
  {
   "cell_type": "markdown",
   "metadata": {},
   "source": [
    "## Bar plots"
   ]
  },
  {
   "cell_type": "code",
   "execution_count": 3,
   "metadata": {},
   "outputs": [
    {
     "data": {
      "text/plain": [
       "<matplotlib.legend.Legend at 0x1a23dda7f0>"
      ]
     },
     "execution_count": 3,
     "metadata": {},
     "output_type": "execute_result"
    },
    {
     "data": {
      "image/png": "[encoded data removed]",
      "text/plain": [
       "<Figure size 432x288 with 1 Axes>"
      ]
     },
     "metadata": {},
     "output_type": "display_data"
    }
   ],
   "source": [
    "# Generate a bar plot showing number of data points for each treatment regimen using pandas\n",
    "\n",
    "df_merged.plot.bar().legend(loc='center left',bbox_to_anchor=(1.0, 0.5))\n"
   ]
  },
  {
   "cell_type": "code",
   "execution_count": 29,
   "metadata": {
    "scrolled": true
   },
   "outputs": [
    {
     "data": {
      "image/png": "[encoded data removed]",
      "text/plain": [
       "<Figure size 432x288 with 1 Axes>"
      ]
     },
     "metadata": {},
     "output_type": "display_data"
    }
   ],
   "source": [
    "# Generate a bar plot showing number of data points for each treatment regimen using pyplot\n",
    "\n",
    "import numpy as np \n",
    "labels = list(df_merged.index.values)\n",
    "N = len(labels)\n",
    "\n",
    "ind = np.arange(N)  # the x locations for the groups\n",
    "width = 0.1       # the width of the bars\n",
    "\n",
    "fig, ax = plt.subplots()\n",
    "\n",
    "rects1 = ax.bar(ind - width, mean, width, color='b')\n",
    "rects2 = ax.bar(ind, median, width, color='m')\n",
    "rects3 = ax.bar(ind + width , variance, width, color='g')\n",
    "rects4 = ax.bar(ind + 2*width , df_merged['Tumor Volume (mm3)_std'], width, color='r')\n",
    "rects5 = ax.bar(ind + 3*width ,df_merged['Tumor Volume (mm3)_sem'] , width, color='c')\n",
    "\n",
    "# add some text for labels, title and axes ticks\n",
    "ax.set_ylabel('Drug Regimen')\n",
    "ax.set_title('Data for Drug Regimen')\n",
    "ax.set_xticks(ind)\n",
    "ax.set_xticklabels(labels, rotation = 90)\n",
    "\n",
    "ax.legend((rects1[0], rects2[0],rects3[0], rects4[0], rects5[0] ), ('Mean', 'Median', 'Variance', 'Standard Deviation', 'Standard Error'), loc='center left', bbox_to_anchor=(1.0, 0.5))\n",
    "\n",
    "plt.show()"
   ]
  },
  {
   "cell_type": "markdown",
   "metadata": {},
   "source": [
    "## Pie plots"
   ]
  },
  {
   "cell_type": "code",
   "execution_count": 42,
   "metadata": {},
   "outputs": [
    {
     "data": {
      "text/plain": [
       "<matplotlib.axes._subplots.AxesSubplot at 0x1a25ec32b0>"
      ]
     },
     "execution_count": 42,
     "metadata": {},
     "output_type": "execute_result"
    },
    {
     "data": {
      "image/png": "[encoded data removed]",
      "text/plain": [
       "<Figure size 432x288 with 1 Axes>"
      ]
     },
     "metadata": {},
     "output_type": "display_data"
    }
   ],
   "source": [
    "# Generate a pie plot showing the distribution of female versus male mice using pandas\n",
    "count_df = pd.DataFrame(mouse_metadata.groupby(['Sex']).nunique())\n",
    "count_df\n",
    "count_df.plot.pie(y = 'Mouse ID')\n"
   ]
  },
  {
   "cell_type": "code",
   "execution_count": 44,
   "metadata": {},
   "outputs": [
    {
     "data": {
      "image/png": "[encoded data removed]",
      "text/plain": [
       "<Figure size 432x288 with 1 Axes>"
      ]
     },
     "metadata": {},
     "output_type": "display_data"
    }
   ],
   "source": [
    "# Generate a pie plot showing the distribution of female versus male mice using pyplot\n",
    "plt.pie(count_df['Mouse ID'],labels=count_df.index.values)\n",
    "plt.show()"
   ]
  },
  {
   "cell_type": "markdown",
   "metadata": {},
   "source": [
    "## Quartiles, outliers and boxplots"
   ]
  },
  {
   "cell_type": "code",
   "execution_count": 55,
   "metadata": {},
   "outputs": [],
   "source": [
    "# Calculate the final tumor volume of each mouse across four of the most promising treatment regimens. Calculate the IQR and quantitatively determine if there are any potential outliers. \n",
    "merged_df_again = pd.merge(left=mouse_metadata, right=study_results)\n",
    "merged_df_45 =merged_df_again.loc[merged_df_again[\"Timepoint\"] == 45]\n",
    "merged_df_45\n",
    "# determine drug regiments with smallest tumor volume\n",
    "merged_df_45.groupby(merged_df_45['Drug Regimen']).mean()\n",
    "# The best regiments are Ramicane, Capomulin, Ceftamin, and Infubinol\n",
    "ramicane = merged_df_45.loc[merged_df_45[\"Drug Regimen\"] == \"Ramicane\"]['Tumor Volume (mm3)']\n",
    "capomulin = merged_df_45.loc[merged_df_45[\"Drug Regimen\"] == \"Capomulin\"]['Tumor Volume (mm3)']\n",
    "ceftamin = merged_df_45.loc[merged_df_45[\"Drug Regimen\"] == \"Ceftamin\"]['Tumor Volume (mm3)']\n",
    "infubinol = merged_df_45.loc[merged_df_45[\"Drug Regimen\"] == \"Infubinol\"]['Tumor Volume (mm3)']\n"
   ]
  },
  {
   "cell_type": "code",
   "execution_count": 58,
   "metadata": {},
   "outputs": [
    {
     "data": {
      "text/plain": [
       "463     67.973419\n",
       "473     65.525743\n",
       "540     66.083066\n",
       "637     72.226731\n",
       "800     62.435404\n",
       "834     60.918767\n",
       "1053    66.196912\n",
       "1813    67.685569\n",
       "Name: Tumor Volume (mm3), dtype: float64"
      ]
     },
     "execution_count": 58,
     "metadata": {},
     "output_type": "execute_result"
    }
   ],
   "source": [
    "ram_quartiles = ramicane.quantile([.25,.5,.75])\n",
    "ram_outliers = ramicane.loc[(ramicane < ramicane.quantile(0.25)) | (ramicane > ramicane.quantile(0.25))]\n",
    "ram_outliers\n",
    "cap_quartiles = capomulin.quantile([.25,.5,.75])\n",
    "cap_outliers = capomulin.loc[(capomulin < capomulin.quantile(0.25)) | (capomulin > capomulin.quantile(0.25))]\n",
    "cap_outliers\n",
    "cef_quartiles = ceftamin.quantile([.25,.5,.75])\n",
    "cef_outliers = ceftamin.loc[(ceftamin < ceftamin.quantile(0.25)) | (ceftamin > ceftamin.quantile(0.25))]\n",
    "cef_outliers\n",
    "inf_quartiles = infubinol.quantile([.25,.5,.75])\n",
    "inf_outliers = infubinol.loc[(infubinol < infubinol.quantile(0.25)) | (infubinol > infubinol.quantile(0.25))]\n",
    "inf_outliers"
   ]
  },
  {
   "cell_type": "code",
   "execution_count": 59,
   "metadata": {},
   "outputs": [
    {
     "data": {
      "text/plain": [
       "{'whiskers': [<matplotlib.lines.Line2D at 0x1a25c2fe48>,\n",
       "  <matplotlib.lines.Line2D at 0x1a25c3a208>,\n",
       "  <matplotlib.lines.Line2D at 0x1a25c44860>,\n",
       "  <matplotlib.lines.Line2D at 0x1a25d3f2e8>,\n",
       "  <matplotlib.lines.Line2D at 0x1a25e10cc0>,\n",
       "  <matplotlib.lines.Line2D at 0x1a25e10208>,\n",
       "  <matplotlib.lines.Line2D at 0x1a25bc52e8>,\n",
       "  <matplotlib.lines.Line2D at 0x1a25bc55f8>],\n",
       " 'caps': [<matplotlib.lines.Line2D at 0x1a25c3a7b8>,\n",
       "  <matplotlib.lines.Line2D at 0x1a25c3ac18>,\n",
       "  <matplotlib.lines.Line2D at 0x1a25d3f898>,\n",
       "  <matplotlib.lines.Line2D at 0x1a25d3f748>,\n",
       "  <matplotlib.lines.Line2D at 0x1a25e10898>,\n",
       "  <matplotlib.lines.Line2D at 0x1a25bf6ac8>,\n",
       "  <matplotlib.lines.Line2D at 0x1a25bc5cf8>,\n",
       "  <matplotlib.lines.Line2D at 0x1a25bdffd0>],\n",
       " 'boxes': [<matplotlib.lines.Line2D at 0x1a25c2f518>,\n",
       "  <matplotlib.lines.Line2D at 0x1a25c44a20>,\n",
       "  <matplotlib.lines.Line2D at 0x1a25d48a58>,\n",
       "  <matplotlib.lines.Line2D at 0x1a25bc5128>],\n",
       " 'medians': [<matplotlib.lines.Line2D at 0x1a25c44588>,\n",
       "  <matplotlib.lines.Line2D at 0x1a25d48518>,\n",
       "  <matplotlib.lines.Line2D at 0x1a25bf6518>,\n",
       "  <matplotlib.lines.Line2D at 0x1a25bdf4e0>],\n",
       " 'fliers': [<matplotlib.lines.Line2D at 0x1a25c44470>,\n",
       "  <matplotlib.lines.Line2D at 0x1a25d48630>,\n",
       "  <matplotlib.lines.Line2D at 0x1a25bf6898>,\n",
       "  <matplotlib.lines.Line2D at 0x1a25bdf940>],\n",
       " 'means': []}"
      ]
     },
     "execution_count": 59,
     "metadata": {},
     "output_type": "execute_result"
    },
    {
     "data": {
      "image/png": "[encoded data removed]",
      "text/plain": [
       "<Figure size 432x288 with 1 Axes>"
      ]
     },
     "metadata": {},
     "output_type": "display_data"
    }
   ],
   "source": [
    "# Generate a box plot of the final tumor volume of each mouse across four regimens of interest\n",
    "\n",
    "plt.boxplot([ramicane, capomulin, ceftamin, infubinol],labels=['ramicane','capomulin','ceftamin','infubinol'])"
   ]
  },
  {
   "cell_type": "markdown",
   "metadata": {},
   "source": [
    "## Line and scatter plots"
   ]
  },
  {
   "cell_type": "code",
   "execution_count": 68,
   "metadata": {},
   "outputs": [
    {
     "data": {
      "text/plain": [
       "[<matplotlib.lines.Line2D at 0x1a25a19e48>]"
      ]
     },
     "execution_count": 68,
     "metadata": {},
     "output_type": "execute_result"
    },
    {
     "data": {
      "image/png": "[encoded data removed]",
      "text/plain": [
       "<Figure size 432x288 with 1 Axes>"
      ]
     },
     "metadata": {},
     "output_type": "display_data"
    }
   ],
   "source": [
    "# Generate a line plot of time point versus tumor volume for a mouse treated with Capomulin\n",
    "merged_df = pd.merge(left=mouse_metadata, right=study_results)\n",
    "capomulin_data = merged_df.loc[merged_df['Drug Regimen'] == 'Capomulin']\n",
    "capomulin_data_s185 = capomulin_data.loc[capomulin_data['Mouse ID'] == 's185']\n",
    "capomulin_data_s185\n",
    "plt.plot(capomulin_data_s185['Timepoint'],capomulin_data_s185['Tumor Volume (mm3)'])"
   ]
  },
  {
   "cell_type": "code",
   "execution_count": 72,
   "metadata": {},
   "outputs": [
    {
     "data": {
      "text/plain": [
       "<matplotlib.collections.PathCollection at 0x1a250efe48>"
      ]
     },
     "execution_count": 72,
     "metadata": {},
     "output_type": "execute_result"
    },
    {
     "data": {
      "image/png": "[encoded data removed]",
      "text/plain": [
       "<Figure size 432x288 with 1 Axes>"
      ]
     },
     "metadata": {},
     "output_type": "display_data"
    }
   ],
   "source": [
    "# Generate a scatter plot of mouse weight versus average tumor volume for the Capomulin regimen\n",
    "\n",
    "plt.scatter(capomulin_data.groupby('Mouse ID').mean()['Weight (g)'],capomulin_data.groupby('Mouse ID').mean()['Tumor Volume (mm3)'])"
   ]
  },
  {
   "cell_type": "code",
   "execution_count": 11,
   "metadata": {},
   "outputs": [],
   "source": [
    "\n"
   ]
  },
  {
   "cell_type": "code",
   "execution_count": null,
   "metadata": {},
   "outputs": [],
   "source": []
  }
 ],
 "metadata": {
  "anaconda-cloud": {},
  "kernelspec": {
   "display_name": "Python 3",
   "language": "python",
   "name": "python3"
  },
  "language_info": {
   "codemirror_mode": {
    "name": "ipython",
    "version": 3
   },
   "file_extension": ".py",
   "mimetype": "text/x-python",
   "name": "python",
   "nbconvert_exporter": "python",
   "pygments_lexer": "ipython3",
   "version": "3.6.8"
  }
 },
 "nbformat": 4,
 "nbformat_minor": 2
}
